{
 "cells": [
  {
   "cell_type": "markdown",
   "id": "a1d3c2d9",
   "metadata": {},
   "source": [
    "<h1>Data Science Tools and Ecosystem<h1>"
   ]
  },
  {
   "cell_type": "markdown",
   "id": "36b5fe4a",
   "metadata": {},
   "source": [
    "In this notebook, Data Science Tools and Ecosystem are summarized."
   ]
  },
  {
   "cell_type": "markdown",
   "id": "9b2f44af",
   "metadata": {},
   "source": [
    "<b>Objectives</b>\n",
    "\n",
    "- List commonly used languages for Data Science\n",
    "- List commonly used libraries for Data Science\n",
    "- List commonly used tools for Data Science\n",
    "- Convert minutes to hours"
   ]
  },
  {
   "cell_type": "markdown",
   "id": "58cd5916",
   "metadata": {},
   "source": [
    "<h2>Author</h2>\n",
    "    \n",
    "Phillip Eby"
   ]
  },
  {
   "cell_type": "markdown",
   "id": "247f92da",
   "metadata": {},
   "source": [
    "Some of the popular languages that Data Scientists use are:\n",
    "\n",
    "1. Python\n",
    "2. R\n",
    "3. SQL\n",
    "4. C++\n",
    "5. Javascript"
   ]
  },
  {
   "cell_type": "markdown",
   "id": "2cc25c6a",
   "metadata": {},
   "source": [
    "Some of the commonly used libraries used by Data Scientists include:\n",
    "\n",
    "    1. Tensorflow\n",
    "    2. NumPy\n",
    "    3. Pandas"
   ]
  },
  {
   "cell_type": "markdown",
   "id": "76d62e27",
   "metadata": {},
   "source": [
    "|Data Science Tools|\n",
    "|------------------|\n",
    "|Rstudio           |\n",
    "|Spyder            |\n",
    "|Jupiter Notebook  |"
   ]
  },
  {
   "cell_type": "markdown",
   "id": "f8783780",
   "metadata": {},
   "source": [
    "<h3>Below are a few exmaples of evaluating arithmetic expressions in Python<h3>"
   ]
  },
  {
   "cell_type": "code",
   "execution_count": 2,
   "id": "c9f081a8",
   "metadata": {},
   "outputs": [
    {
     "name": "stdout",
     "output_type": "stream",
     "text": [
      "17\n"
     ]
    }
   ],
   "source": [
    "# This is a simple airthmetic expression to multiply then add integers\n",
    "output = (3*4) +5\n",
    "print(output)"
   ]
  },
  {
   "cell_type": "code",
   "execution_count": 5,
   "id": "bfe174dd",
   "metadata": {},
   "outputs": [
    {
     "name": "stdout",
     "output_type": "stream",
     "text": [
      "3.3333333333333335\n"
     ]
    }
   ],
   "source": [
    "#This will convert 200 minutes to hours by dividing by 60.\n",
    "hours = 200/60\n",
    "print(hours)"
   ]
  },
  {
   "cell_type": "code",
   "execution_count": null,
   "id": "6b5876fd",
   "metadata": {},
   "outputs": [],
   "source": []
  }
 ],
 "metadata": {
  "kernelspec": {
   "display_name": "Python 3 (ipykernel)",
   "language": "python",
   "name": "python3"
  },
  "language_info": {
   "codemirror_mode": {
    "name": "ipython",
    "version": 3
   },
   "file_extension": ".py",
   "mimetype": "text/x-python",
   "name": "python",
   "nbconvert_exporter": "python",
   "pygments_lexer": "ipython3",
   "version": "3.9.13"
  }
 },
 "nbformat": 4,
 "nbformat_minor": 5
}
